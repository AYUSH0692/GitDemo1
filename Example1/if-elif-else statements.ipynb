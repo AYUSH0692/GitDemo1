{
 "cells": [
  {
   "cell_type": "code",
   "execution_count": 1,
   "id": "7876c420",
   "metadata": {},
   "outputs": [
    {
     "name": "stdout",
     "output_type": "stream",
     "text": [
      "Its True\n"
     ]
    }
   ],
   "source": [
    "if True:\n",
    "    print('Its True')"
   ]
  },
  {
   "cell_type": "code",
   "execution_count": 2,
   "id": "8206afa7",
   "metadata": {},
   "outputs": [
    {
     "name": "stdout",
     "output_type": "stream",
     "text": [
      "Its True\n"
     ]
    }
   ],
   "source": [
    "if 3>2:\n",
    "    print('Its True')"
   ]
  },
  {
   "cell_type": "code",
   "execution_count": 4,
   "id": "69c559bd",
   "metadata": {},
   "outputs": [
    {
     "name": "stdout",
     "output_type": "stream",
     "text": [
      "Feed Me\n"
     ]
    }
   ],
   "source": [
    "hungry = True\n",
    "if hungry:\n",
    "    print('Feed Me')"
   ]
  },
  {
   "cell_type": "code",
   "execution_count": 13,
   "id": "9cb421a2",
   "metadata": {},
   "outputs": [
    {
     "name": "stdout",
     "output_type": "stream",
     "text": [
      "i am not hungry\n"
     ]
    }
   ],
   "source": [
    "hungry = False\n",
    "if hungry:\n",
    "    print('Feed Me')\n",
    "else:\n",
    "    print('i am not hungry')"
   ]
  },
  {
   "cell_type": "code",
   "execution_count": 10,
   "id": "a086b275",
   "metadata": {},
   "outputs": [
    {
     "name": "stdout",
     "output_type": "stream",
     "text": [
      "Money is cool!\n"
     ]
    }
   ],
   "source": [
    "loc = 'Bank'\n",
    "if loc =='Auto Shop':\n",
    "    print(\"cars are cool !\")\n",
    "elif loc == \"Bank\":\n",
    "    print('Money is cool!')\n",
    "elif loc == 'Store':\n",
    "    print(\"welcome to the store!\")\n",
    "else:\n",
    "    print(\"I do not know much.\")"
   ]
  },
  {
   "cell_type": "code",
   "execution_count": null,
   "id": "134b2515",
   "metadata": {},
   "outputs": [],
   "source": []
  }
 ],
 "metadata": {
  "kernelspec": {
   "display_name": "Python 3 (ipykernel)",
   "language": "python",
   "name": "python3"
  },
  "language_info": {
   "codemirror_mode": {
    "name": "ipython",
    "version": 3
   },
   "file_extension": ".py",
   "mimetype": "text/x-python",
   "name": "python",
   "nbconvert_exporter": "python",
   "pygments_lexer": "ipython3",
   "version": "3.10.9"
  }
 },
 "nbformat": 4,
 "nbformat_minor": 5
}
