{
 "cells": [
  {
   "cell_type": "code",
   "execution_count": 2,
   "id": "13df958c",
   "metadata": {},
   "outputs": [
    {
     "name": "stdout",
     "output_type": "stream",
     "text": [
      "Hey you have an OS error\n",
      "I always run\n"
     ]
    }
   ],
   "source": [
    "try:\n",
    "    f=open('tetfile','r')\n",
    "    f.write(\"this is a test file\")\n",
    "except TypeError:\n",
    "    print (\"Hey there ia a type error\")\n",
    "except OSError:\n",
    "    print(\"Hey you have an OS error\")\n",
    "except:\n",
    "    print(\"There is some other error\")\n",
    "else:\n",
    "    print(\"I will run if there is no error\")\n",
    "finally:\n",
    "    print(\"I always run\")"
   ]
  },
  {
   "cell_type": "code",
   "execution_count": 3,
   "id": "9020a573",
   "metadata": {},
   "outputs": [],
   "source": [
    "def ask_for_int():\n",
    "    while True:\n",
    "        try:\n",
    "            result = int(input(\"Please provide a number: \"))\n",
    "        except:\n",
    "            print(\"Whoops! This is not a number\")\n",
    "        else:\n",
    "            print(\"Yes Thank You\")\n",
    "            break\n",
    "        finally:\n",
    "            print(\"This is the End\")"
   ]
  },
  {
   "cell_type": "code",
   "execution_count": 4,
   "id": "c853e87e",
   "metadata": {},
   "outputs": [
    {
     "name": "stdout",
     "output_type": "stream",
     "text": [
      "Please provide a number: 2\n",
      "Yes Thank You\n",
      "This is the End\n"
     ]
    }
   ],
   "source": [
    "ask_for_int()"
   ]
  },
  {
   "cell_type": "code",
   "execution_count": 6,
   "id": "28c4d711",
   "metadata": {},
   "outputs": [
    {
     "name": "stdout",
     "output_type": "stream",
     "text": [
      "Please provide a number: w\n",
      "Whoops! This is not a number\n",
      "Please provide a number: 3\n",
      "Yes Thank You\n"
     ]
    }
   ],
   "source": [
    "def ask_for_int():\n",
    "    while True:\n",
    "        try:\n",
    "            result = int(input(\"Please provide a number: \"))\n",
    "        except:\n",
    "            print(\"Whoops! This is not a number\")\n",
    "        else:\n",
    "            print(\"Yes Thank You\")\n",
    "            break\n",
    "        #finally:\n",
    "         #   print(\"This is the End\")\n",
    "ask_for_int()"
   ]
  },
  {
   "cell_type": "code",
   "execution_count": null,
   "id": "5ae40765",
   "metadata": {},
   "outputs": [],
   "source": []
  }
 ],
 "metadata": {
  "kernelspec": {
   "display_name": "Python 3 (ipykernel)",
   "language": "python",
   "name": "python3"
  },
  "language_info": {
   "codemirror_mode": {
    "name": "ipython",
    "version": 3
   },
   "file_extension": ".py",
   "mimetype": "text/x-python",
   "name": "python",
   "nbconvert_exporter": "python",
   "pygments_lexer": "ipython3",
   "version": "3.10.9"
  }
 },
 "nbformat": 4,
 "nbformat_minor": 5
}
