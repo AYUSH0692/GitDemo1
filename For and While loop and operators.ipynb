{
 "cells": [
  {
   "cell_type": "markdown",
   "id": "0ab10c96",
   "metadata": {},
   "source": [
    "# FOR LOOP with list"
   ]
  },
  {
   "cell_type": "code",
   "execution_count": 1,
   "id": "21c5550b",
   "metadata": {},
   "outputs": [],
   "source": [
    "mylist = [1,2,3,4,5,6,7,8,9,10]"
   ]
  },
  {
   "cell_type": "code",
   "execution_count": 2,
   "id": "1fb544cb",
   "metadata": {},
   "outputs": [
    {
     "name": "stdout",
     "output_type": "stream",
     "text": [
      "1\n",
      "2\n",
      "3\n",
      "4\n",
      "5\n",
      "6\n",
      "7\n",
      "8\n",
      "9\n",
      "10\n"
     ]
    }
   ],
   "source": [
    "for num in mylist:\n",
    "    print(num)"
   ]
  },
  {
   "cell_type": "code",
   "execution_count": 3,
   "id": "b1df6842",
   "metadata": {},
   "outputs": [
    {
     "name": "stdout",
     "output_type": "stream",
     "text": [
      "hello\n",
      "hello\n",
      "hello\n",
      "hello\n",
      "hello\n",
      "hello\n",
      "hello\n",
      "hello\n",
      "hello\n",
      "hello\n"
     ]
    }
   ],
   "source": [
    "for num in mylist:\n",
    "    print('hello')"
   ]
  },
  {
   "cell_type": "code",
   "execution_count": 4,
   "id": "091527e6",
   "metadata": {},
   "outputs": [
    {
     "name": "stdout",
     "output_type": "stream",
     "text": [
      "odd nuber: 1\n",
      "even number: 2\n",
      "odd nuber: 3\n",
      "even number: 4\n",
      "odd nuber: 5\n",
      "even number: 6\n",
      "odd nuber: 7\n",
      "even number: 8\n",
      "odd nuber: 9\n",
      "even number: 10\n"
     ]
    }
   ],
   "source": [
    "for num in mylist:\n",
    "    #check for even number\n",
    "    if num%2 ==0:\n",
    "        print (f'even number: {num}')\n",
    "    else :\n",
    "        print(f'odd nuber: {num}')"
   ]
  },
  {
   "cell_type": "code",
   "execution_count": 7,
   "id": "183e99a7",
   "metadata": {},
   "outputs": [
    {
     "name": "stdout",
     "output_type": "stream",
     "text": [
      "55\n"
     ]
    }
   ],
   "source": [
    "list_sum = 0\n",
    "\n",
    "for num in mylist:\n",
    "    list_sum = list_sum +num\n",
    "\n",
    "print(list_sum)"
   ]
  },
  {
   "cell_type": "code",
   "execution_count": 8,
   "id": "f59c8822",
   "metadata": {},
   "outputs": [
    {
     "name": "stdout",
     "output_type": "stream",
     "text": [
      "H\n",
      "e\n",
      "l\n",
      "l\n",
      "o\n",
      " \n",
      "W\n",
      "o\n",
      "r\n",
      "l\n",
      "d\n"
     ]
    }
   ],
   "source": [
    "mystring = 'Hello World'\n",
    "for letter in mystring:\n",
    "    print(letter)"
   ]
  },
  {
   "cell_type": "code",
   "execution_count": 9,
   "id": "e26304f8",
   "metadata": {},
   "outputs": [
    {
     "name": "stdout",
     "output_type": "stream",
     "text": [
      "H\n",
      "e\n",
      "l\n",
      "l\n",
      "o\n",
      " \n",
      "W\n",
      "o\n",
      "r\n",
      "l\n",
      "d\n"
     ]
    }
   ],
   "source": [
    "for letter in 'Hello World':\n",
    "    print(letter)"
   ]
  },
  {
   "cell_type": "markdown",
   "id": "3984aea5",
   "metadata": {},
   "source": [
    "# FOR LOOP with Tuple"
   ]
  },
  {
   "cell_type": "code",
   "execution_count": 10,
   "id": "aa8da2b5",
   "metadata": {},
   "outputs": [
    {
     "name": "stdout",
     "output_type": "stream",
     "text": [
      "1\n",
      "2\n",
      "3\n"
     ]
    }
   ],
   "source": [
    "tup = (1,2,3)\n",
    "for item in tup:\n",
    "    print(item)"
   ]
  },
  {
   "cell_type": "code",
   "execution_count": 11,
   "id": "8ee5660e",
   "metadata": {},
   "outputs": [
    {
     "data": {
      "text/plain": [
       "4"
      ]
     },
     "execution_count": 11,
     "metadata": {},
     "output_type": "execute_result"
    }
   ],
   "source": [
    "mylist = [(1,2),(3,4),(5,6),(7,8)]\n",
    "len(mylist)"
   ]
  },
  {
   "cell_type": "code",
   "execution_count": 12,
   "id": "303b26cd",
   "metadata": {},
   "outputs": [
    {
     "name": "stdout",
     "output_type": "stream",
     "text": [
      "(1, 2)\n",
      "(3, 4)\n",
      "(5, 6)\n",
      "(7, 8)\n"
     ]
    }
   ],
   "source": [
    "for item in mylist:\n",
    "    print(item)"
   ]
  },
  {
   "cell_type": "code",
   "execution_count": 13,
   "id": "d4320dc9",
   "metadata": {},
   "outputs": [
    {
     "name": "stdout",
     "output_type": "stream",
     "text": [
      "1 2\n",
      "3 4\n",
      "5 6\n",
      "7 8\n"
     ]
    }
   ],
   "source": [
    "for (a,b) in mylist:\n",
    "    print(a,b)"
   ]
  },
  {
   "cell_type": "code",
   "execution_count": 14,
   "id": "67e75642",
   "metadata": {},
   "outputs": [
    {
     "name": "stdout",
     "output_type": "stream",
     "text": [
      "1\n",
      "2\n",
      "3\n",
      "4\n",
      "5\n",
      "6\n",
      "7\n",
      "8\n"
     ]
    }
   ],
   "source": [
    "for (a,b) in mylist: # here parenthesis are not mandatory\n",
    "    print(a)\n",
    "    print(b)"
   ]
  },
  {
   "cell_type": "code",
   "execution_count": 15,
   "id": "1dbe64e0",
   "metadata": {},
   "outputs": [
    {
     "name": "stdout",
     "output_type": "stream",
     "text": [
      "2\n",
      "6\n",
      "9\n"
     ]
    }
   ],
   "source": [
    "mylist = [(1,2,3),(5,6,7),(8,9,10)]\n",
    "for a,b,c in mylist:\n",
    "    print(b)"
   ]
  },
  {
   "cell_type": "markdown",
   "id": "7218cb96",
   "metadata": {},
   "source": [
    "# FOR LOOP with Dictionary"
   ]
  },
  {
   "cell_type": "code",
   "execution_count": 17,
   "id": "262e1bd0",
   "metadata": {},
   "outputs": [
    {
     "name": "stdout",
     "output_type": "stream",
     "text": [
      "k1\n",
      "k2\n",
      "k3\n"
     ]
    }
   ],
   "source": [
    "d = {'k1':1,'k2':2,'k3':3}\n",
    "for item in d:\n",
    "    print(item) # by default it will print keys"
   ]
  },
  {
   "cell_type": "code",
   "execution_count": 18,
   "id": "a0d58adc",
   "metadata": {},
   "outputs": [
    {
     "name": "stdout",
     "output_type": "stream",
     "text": [
      "('k1', 1)\n",
      "('k2', 2)\n",
      "('k3', 3)\n"
     ]
    }
   ],
   "source": [
    "d = {'k1':1,'k2':2,'k3':3}\n",
    "for item in d.items():\n",
    "    print(item)"
   ]
  },
  {
   "cell_type": "code",
   "execution_count": 19,
   "id": "80d6c086",
   "metadata": {},
   "outputs": [
    {
     "name": "stdout",
     "output_type": "stream",
     "text": [
      "1\n",
      "2\n",
      "3\n"
     ]
    }
   ],
   "source": [
    "d = {'k1':1,'k2':2,'k3':3}\n",
    "for item in d.values():\n",
    "    print(item)"
   ]
  },
  {
   "cell_type": "code",
   "execution_count": 20,
   "id": "9b01e91c",
   "metadata": {},
   "outputs": [
    {
     "name": "stdout",
     "output_type": "stream",
     "text": [
      "k1\n",
      "k2\n",
      "k3\n"
     ]
    }
   ],
   "source": [
    "d = {'k1':1,'k2':2,'k3':3}\n",
    "for item in d.keys():\n",
    "    print(item)"
   ]
  },
  {
   "cell_type": "code",
   "execution_count": 21,
   "id": "af826195",
   "metadata": {},
   "outputs": [
    {
     "name": "stdout",
     "output_type": "stream",
     "text": [
      "k1\n",
      "1\n",
      "k2\n",
      "2\n",
      "k3\n",
      "3\n"
     ]
    }
   ],
   "source": [
    "d = {'k1':1,'k2':2,'k3':3}\n",
    "for key,value in d.items():\n",
    "    print(key)\n",
    "    print(value)"
   ]
  },
  {
   "cell_type": "code",
   "execution_count": 34,
   "id": "0ef4c40b",
   "metadata": {},
   "outputs": [
    {
     "data": {
      "text/plain": [
       "dict_items([('k1', 1), ('k2', 2), ('k3', 3)])"
      ]
     },
     "execution_count": 34,
     "metadata": {},
     "output_type": "execute_result"
    }
   ],
   "source": [
    "d = {'k1':1,'k2':2,'k3':3}\n",
    "d.items()"
   ]
  },
  {
   "cell_type": "code",
   "execution_count": 35,
   "id": "a70dafa4",
   "metadata": {},
   "outputs": [
    {
     "data": {
      "text/plain": [
       "dict_values([1, 2, 3])"
      ]
     },
     "execution_count": 35,
     "metadata": {},
     "output_type": "execute_result"
    }
   ],
   "source": [
    "d.values()\n"
   ]
  },
  {
   "cell_type": "code",
   "execution_count": null,
   "id": "94769662",
   "metadata": {},
   "outputs": [],
   "source": [
    "d.keys()"
   ]
  },
  {
   "cell_type": "markdown",
   "id": "e4e5c6a4",
   "metadata": {},
   "source": [
    "# For loop for drawing pattern"
   ]
  },
  {
   "cell_type": "code",
   "execution_count": 143,
   "id": "cc473ad2",
   "metadata": {},
   "outputs": [
    {
     "name": "stdout",
     "output_type": "stream",
     "text": [
      "*\n",
      "**\n",
      "***\n",
      "****\n",
      "*****\n"
     ]
    }
   ],
   "source": [
    "char = '*'\n",
    "for i in range(1,6):\n",
    "    print(char*i)\n"
   ]
  },
  {
   "cell_type": "code",
   "execution_count": 144,
   "id": "78118562",
   "metadata": {},
   "outputs": [
    {
     "name": "stdout",
     "output_type": "stream",
     "text": [
      "   *    \n",
      "  ***   \n",
      " *****  \n",
      "******* \n"
     ]
    }
   ],
   "source": [
    "char = '*'\n",
    "for i in range(1,8,2):\n",
    "    print('{0:^8}'.format(char*(i)))"
   ]
  },
  {
   "cell_type": "code",
   "execution_count": 145,
   "id": "479a4292",
   "metadata": {},
   "outputs": [
    {
     "name": "stdout",
     "output_type": "stream",
     "text": [
      "   *    \n",
      "  ***   \n",
      " *****  \n",
      "******* \n",
      " *****  \n",
      "  ***   \n",
      "   *    \n"
     ]
    }
   ],
   "source": [
    "char = '*'\n",
    "y = 6\n",
    "for i in range(1,8,2):\n",
    "    print('{0:^8}'.format(char*(i)))\n",
    "for x in range(1,6,2):\n",
    "    z=y-x\n",
    "    print('{0:^8}'.format(char*z))"
   ]
  },
  {
   "cell_type": "code",
   "execution_count": 146,
   "id": "a16f75f1",
   "metadata": {},
   "outputs": [
    {
     "name": "stdout",
     "output_type": "stream",
     "text": [
      "   *\n",
      "  **\n",
      " ***\n",
      "****\n"
     ]
    }
   ],
   "source": [
    "for i in range(1,5):\n",
    "    print('{}{}'.format(' '*(4-i),'*'*i))"
   ]
  },
  {
   "cell_type": "code",
   "execution_count": 147,
   "id": "4ba566c4",
   "metadata": {},
   "outputs": [
    {
     "name": "stdout",
     "output_type": "stream",
     "text": [
      "   *\n",
      "  ***\n",
      " *****\n",
      "*******\n"
     ]
    }
   ],
   "source": [
    "for i in range(1,5):\n",
    "    print('{}{}{}'.format(' '*(4-i),'*'*i,'*'*(i-1)))"
   ]
  },
  {
   "cell_type": "code",
   "execution_count": 148,
   "id": "0353f075",
   "metadata": {},
   "outputs": [
    {
     "name": "stdout",
     "output_type": "stream",
     "text": [
      "   *\n",
      "  ***\n",
      " *****\n",
      "*******\n",
      " ***\n",
      "  **\n",
      "   *\n"
     ]
    }
   ],
   "source": [
    "for i in range(1,5):\n",
    "    print('{}{}{}'.format(' '*(4-i),'*'*i,'*'*(i-1)))\n",
    "for x in range(1,4):\n",
    "    print('{}{}'.format(' '*x,'*'*(4-x)))"
   ]
  },
  {
   "cell_type": "code",
   "execution_count": 149,
   "id": "243ef398",
   "metadata": {},
   "outputs": [
    {
     "name": "stdout",
     "output_type": "stream",
     "text": [
      "   *\n",
      "  ***\n",
      " *****\n",
      "*******\n",
      " *****\n",
      "  ***\n",
      "   *\n"
     ]
    }
   ],
   "source": [
    "for i in range(1,5):\n",
    "    print('{}{}{}'.format(' '*(4-i),'*'*i,'*'*(i-1)))\n",
    "for x in range(1,4):\n",
    "    print('{}{}{}'.format(' '*x,'*'*(4-x),'*'*(3-x)))"
   ]
  },
  {
   "cell_type": "markdown",
   "id": "2ea85934",
   "metadata": {},
   "source": [
    "# While loop"
   ]
  },
  {
   "cell_type": "code",
   "execution_count": 38,
   "id": "f5aea3ea",
   "metadata": {},
   "outputs": [
    {
     "name": "stdout",
     "output_type": "stream",
     "text": [
      "0\n",
      "1\n",
      "2\n",
      "3\n",
      "4\n"
     ]
    }
   ],
   "source": [
    "x=0\n",
    "while x<5:\n",
    "    print(x)\n",
    "    x=x+1"
   ]
  },
  {
   "cell_type": "code",
   "execution_count": 40,
   "id": "5292114e",
   "metadata": {},
   "outputs": [
    {
     "name": "stdout",
     "output_type": "stream",
     "text": [
      "x is not less than 5\n"
     ]
    }
   ],
   "source": [
    "x=50\n",
    "while x<5:\n",
    "    print(x)\n",
    "    x=x+1\n",
    "else:\n",
    "    print(\"x is not less than 5\")"
   ]
  },
  {
   "cell_type": "code",
   "execution_count": 112,
   "id": "4e75e587",
   "metadata": {},
   "outputs": [
    {
     "name": "stdout",
     "output_type": "stream",
     "text": [
      "2\n",
      "3\n",
      "4\n"
     ]
    }
   ],
   "source": [
    "i = 1\n",
    "while i in [1,2,3]:\n",
    "    i+=1\n",
    "    print(i)"
   ]
  },
  {
   "cell_type": "code",
   "execution_count": null,
   "id": "8a30ff2c",
   "metadata": {},
   "outputs": [],
   "source": []
  },
  {
   "cell_type": "markdown",
   "id": "04972adf",
   "metadata": {},
   "source": [
    "# pass statement"
   ]
  },
  {
   "cell_type": "code",
   "execution_count": 49,
   "id": "c448ffcc",
   "metadata": {},
   "outputs": [],
   "source": [
    "x= [1,2,3]\n",
    "for item in x:\n",
    "    pass"
   ]
  },
  {
   "cell_type": "code",
   "execution_count": 43,
   "id": "e12b17e2",
   "metadata": {},
   "outputs": [
    {
     "ename": "IndentationError",
     "evalue": "expected an indented block after 'for' statement on line 2 (470818595.py, line 4)",
     "output_type": "error",
     "traceback": [
      "\u001b[1;36m  Cell \u001b[1;32mIn[43], line 4\u001b[1;36m\u001b[0m\n\u001b[1;33m    print (\"hello\")\u001b[0m\n\u001b[1;37m    ^\u001b[0m\n\u001b[1;31mIndentationError\u001b[0m\u001b[1;31m:\u001b[0m expected an indented block after 'for' statement on line 2\n"
     ]
    }
   ],
   "source": [
    "x= [1,2,3]\n",
    "for item in x:\n",
    "    \n",
    "print (\"hello\")"
   ]
  },
  {
   "cell_type": "code",
   "execution_count": 44,
   "id": "d7866850",
   "metadata": {},
   "outputs": [
    {
     "name": "stdout",
     "output_type": "stream",
     "text": [
      "hello\n"
     ]
    }
   ],
   "source": [
    "x= [1,2,3]\n",
    "for item in x:\n",
    "    pass\n",
    "print (\"hello\")"
   ]
  },
  {
   "cell_type": "markdown",
   "id": "26fe0977",
   "metadata": {},
   "source": [
    "# continue statement"
   ]
  },
  {
   "cell_type": "code",
   "execution_count": 47,
   "id": "59d17771",
   "metadata": {},
   "outputs": [
    {
     "name": "stdout",
     "output_type": "stream",
     "text": [
      "1\n",
      "3\n"
     ]
    }
   ],
   "source": [
    "x = [1,2,3]\n",
    "for y in x:\n",
    "    if y ==2:\n",
    "        continue\n",
    "    print(y)"
   ]
  },
  {
   "cell_type": "markdown",
   "id": "be6d9318",
   "metadata": {},
   "source": [
    "# break statement"
   ]
  },
  {
   "cell_type": "code",
   "execution_count": 50,
   "id": "8c134a94",
   "metadata": {},
   "outputs": [],
   "source": [
    "x = 0"
   ]
  },
  {
   "cell_type": "code",
   "execution_count": 51,
   "id": "0ff6c6ff",
   "metadata": {},
   "outputs": [
    {
     "name": "stdout",
     "output_type": "stream",
     "text": [
      "0\n",
      "1\n",
      "2\n"
     ]
    }
   ],
   "source": [
    "while x < 5:\n",
    "    if x==3:\n",
    "        break\n",
    "    print(x)\n",
    "    x+=1"
   ]
  },
  {
   "cell_type": "markdown",
   "id": "46fc4f1b",
   "metadata": {},
   "source": [
    "# Range operator"
   ]
  },
  {
   "cell_type": "code",
   "execution_count": 54,
   "id": "0c8df5e8",
   "metadata": {},
   "outputs": [
    {
     "name": "stdout",
     "output_type": "stream",
     "text": [
      "0\n",
      "1\n",
      "2\n",
      "3\n",
      "4\n"
     ]
    }
   ],
   "source": [
    "for num in range(5):\n",
    "    print(num)"
   ]
  },
  {
   "cell_type": "code",
   "execution_count": 55,
   "id": "b118d2b5",
   "metadata": {},
   "outputs": [
    {
     "data": {
      "text/plain": [
       "[2, 4, 6, 8, 10]"
      ]
     },
     "execution_count": 55,
     "metadata": {},
     "output_type": "execute_result"
    }
   ],
   "source": [
    "list(range(2,12,2))"
   ]
  },
  {
   "cell_type": "markdown",
   "id": "c9437e2c",
   "metadata": {},
   "source": [
    "# Enumerate operator"
   ]
  },
  {
   "cell_type": "code",
   "execution_count": 56,
   "id": "f7977579",
   "metadata": {},
   "outputs": [
    {
     "name": "stdout",
     "output_type": "stream",
     "text": [
      "(0, 'a')\n",
      "(1, 'b')\n",
      "(2, 'c')\n"
     ]
    }
   ],
   "source": [
    "word = 'abc'\n",
    "for item in enumerate(word):\n",
    "    print(item)"
   ]
  },
  {
   "cell_type": "code",
   "execution_count": 57,
   "id": "0366d8bc",
   "metadata": {},
   "outputs": [
    {
     "name": "stdout",
     "output_type": "stream",
     "text": [
      "0\n",
      "a\n",
      "1\n",
      "b\n",
      "2\n",
      "c\n"
     ]
    }
   ],
   "source": [
    "word = 'abc'\n",
    "for x,y in enumerate(word):\n",
    "    print(x)\n",
    "    print(y)"
   ]
  },
  {
   "cell_type": "code",
   "execution_count": 64,
   "id": "5c1c66e5",
   "metadata": {},
   "outputs": [
    {
     "data": {
      "text/plain": [
       "<enumerate at 0x1ac805dd980>"
      ]
     },
     "execution_count": 64,
     "metadata": {},
     "output_type": "execute_result"
    }
   ],
   "source": [
    "enumerate(word) # it doesnt give the output directly"
   ]
  },
  {
   "cell_type": "code",
   "execution_count": 65,
   "id": "49bbd090",
   "metadata": {},
   "outputs": [
    {
     "data": {
      "text/plain": [
       "[(0, 'a'), (1, 'b'), (2, 'c')]"
      ]
     },
     "execution_count": 65,
     "metadata": {},
     "output_type": "execute_result"
    }
   ],
   "source": [
    "list(enumerate(word))"
   ]
  },
  {
   "cell_type": "markdown",
   "id": "bd1713a3",
   "metadata": {},
   "source": [
    "# zip operator"
   ]
  },
  {
   "cell_type": "code",
   "execution_count": 58,
   "id": "18cdc154",
   "metadata": {},
   "outputs": [
    {
     "name": "stdout",
     "output_type": "stream",
     "text": [
      "(1, 'a')\n",
      "(2, 'b')\n",
      "(3, 'c')\n"
     ]
    }
   ],
   "source": [
    "list1 = [1,2,3]\n",
    "list2 = ['a','b','c']\n",
    "for item in zip(list1,list2):\n",
    "    print(item)"
   ]
  },
  {
   "cell_type": "code",
   "execution_count": 60,
   "id": "73650507",
   "metadata": {},
   "outputs": [
    {
     "name": "stdout",
     "output_type": "stream",
     "text": [
      "(1, 'a')\n",
      "(2, 'b')\n",
      "(3, 'c')\n"
     ]
    }
   ],
   "source": [
    "list1 = [1,2,3]\n",
    "list2 = ['a','b','c','d']\n",
    "for item in zip(list1,list2):\n",
    "    print(item)"
   ]
  },
  {
   "cell_type": "code",
   "execution_count": 61,
   "id": "5c46cc6b",
   "metadata": {},
   "outputs": [
    {
     "data": {
      "text/plain": [
       "[(1, 'a'), (2, 'b'), (3, 'c')]"
      ]
     },
     "execution_count": 61,
     "metadata": {},
     "output_type": "execute_result"
    }
   ],
   "source": [
    "list(zip(list1,list2))"
   ]
  },
  {
   "cell_type": "code",
   "execution_count": 62,
   "id": "24f9c4ac",
   "metadata": {},
   "outputs": [
    {
     "data": {
      "text/plain": [
       "<zip at 0x1ac80b9f180>"
      ]
     },
     "execution_count": 62,
     "metadata": {},
     "output_type": "execute_result"
    }
   ],
   "source": [
    "zip(list1,list2) # it doesnt give the output directly"
   ]
  },
  {
   "cell_type": "markdown",
   "id": "36bbdc07",
   "metadata": {},
   "source": [
    "# in operator"
   ]
  },
  {
   "cell_type": "code",
   "execution_count": 66,
   "id": "5f193502",
   "metadata": {},
   "outputs": [
    {
     "data": {
      "text/plain": [
       "True"
      ]
     },
     "execution_count": 66,
     "metadata": {},
     "output_type": "execute_result"
    }
   ],
   "source": [
    "'l' in 'a world'"
   ]
  },
  {
   "cell_type": "code",
   "execution_count": 113,
   "id": "1bf1be05",
   "metadata": {},
   "outputs": [
    {
     "data": {
      "text/plain": [
       "True"
      ]
     },
     "execution_count": 113,
     "metadata": {},
     "output_type": "execute_result"
    }
   ],
   "source": [
    "1 in [1,2,3]"
   ]
  },
  {
   "cell_type": "markdown",
   "id": "639ea5e9",
   "metadata": {},
   "source": [
    "# min & max operator"
   ]
  },
  {
   "cell_type": "code",
   "execution_count": 67,
   "id": "23444901",
   "metadata": {},
   "outputs": [
    {
     "data": {
      "text/plain": [
       "3"
      ]
     },
     "execution_count": 67,
     "metadata": {},
     "output_type": "execute_result"
    }
   ],
   "source": [
    "list1 = [100,20,3]\n",
    "min(list1)"
   ]
  },
  {
   "cell_type": "code",
   "execution_count": 68,
   "id": "ef8da1ff",
   "metadata": {},
   "outputs": [
    {
     "data": {
      "text/plain": [
       "100"
      ]
     },
     "execution_count": 68,
     "metadata": {},
     "output_type": "execute_result"
    }
   ],
   "source": [
    "max(list1)"
   ]
  },
  {
   "cell_type": "code",
   "execution_count": 69,
   "id": "9906dd7b",
   "metadata": {},
   "outputs": [
    {
     "ename": "TypeError",
     "evalue": "'<' not supported between instances of 'str' and 'int'",
     "output_type": "error",
     "traceback": [
      "\u001b[1;31m---------------------------------------------------------------------------\u001b[0m",
      "\u001b[1;31mTypeError\u001b[0m                                 Traceback (most recent call last)",
      "Cell \u001b[1;32mIn[69], line 2\u001b[0m\n\u001b[0;32m      1\u001b[0m list1 \u001b[38;5;241m=\u001b[39m [\u001b[38;5;241m100\u001b[39m,\u001b[38;5;241m20\u001b[39m,\u001b[38;5;241m3\u001b[39m,\u001b[38;5;124m'\u001b[39m\u001b[38;5;124ma\u001b[39m\u001b[38;5;124m'\u001b[39m,\u001b[38;5;124m'\u001b[39m\u001b[38;5;124mb\u001b[39m\u001b[38;5;124m'\u001b[39m]\n\u001b[1;32m----> 2\u001b[0m \u001b[38;5;28;43mmin\u001b[39;49m\u001b[43m(\u001b[49m\u001b[43mlist1\u001b[49m\u001b[43m)\u001b[49m\n",
      "\u001b[1;31mTypeError\u001b[0m: '<' not supported between instances of 'str' and 'int'"
     ]
    }
   ],
   "source": [
    "list1 = [100,20,3,'a','b']\n",
    "min(list1)"
   ]
  },
  {
   "cell_type": "code",
   "execution_count": 70,
   "id": "299ebb26",
   "metadata": {},
   "outputs": [
    {
     "data": {
      "text/plain": [
       "'A'"
      ]
     },
     "execution_count": 70,
     "metadata": {},
     "output_type": "execute_result"
    }
   ],
   "source": [
    "list1 = ['a','b','c','A']\n",
    "min(list1)"
   ]
  },
  {
   "cell_type": "code",
   "execution_count": 71,
   "id": "87fd089c",
   "metadata": {},
   "outputs": [
    {
     "data": {
      "text/plain": [
       "'c'"
      ]
     },
     "execution_count": 71,
     "metadata": {},
     "output_type": "execute_result"
    }
   ],
   "source": [
    "max(list1)"
   ]
  },
  {
   "cell_type": "markdown",
   "id": "a573418a",
   "metadata": {},
   "source": [
    "# random library"
   ]
  },
  {
   "cell_type": "code",
   "execution_count": 80,
   "id": "1c708718",
   "metadata": {},
   "outputs": [],
   "source": [
    "from random import shuffle # shuffle function"
   ]
  },
  {
   "cell_type": "code",
   "execution_count": 81,
   "id": "09f31d67",
   "metadata": {},
   "outputs": [],
   "source": [
    "list1 = [1,2,3,4,5,6,7,8,9,10]"
   ]
  },
  {
   "cell_type": "code",
   "execution_count": 86,
   "id": "564627bf",
   "metadata": {},
   "outputs": [],
   "source": [
    "shuffle(list1)"
   ]
  },
  {
   "cell_type": "code",
   "execution_count": 87,
   "id": "c7973615",
   "metadata": {},
   "outputs": [
    {
     "data": {
      "text/plain": [
       "[7, 5, 4, 8, 3, 10, 6, 1, 9, 2]"
      ]
     },
     "execution_count": 87,
     "metadata": {},
     "output_type": "execute_result"
    }
   ],
   "source": [
    "list1"
   ]
  },
  {
   "cell_type": "code",
   "execution_count": 85,
   "id": "53abaefa",
   "metadata": {},
   "outputs": [
    {
     "data": {
      "text/plain": [
       "NoneType"
      ]
     },
     "execution_count": 85,
     "metadata": {},
     "output_type": "execute_result"
    }
   ],
   "source": [
    "type(shuffle(list1))"
   ]
  },
  {
   "cell_type": "code",
   "execution_count": 88,
   "id": "2ac2173d",
   "metadata": {},
   "outputs": [],
   "source": [
    "from random import randint # randint function"
   ]
  },
  {
   "cell_type": "code",
   "execution_count": 90,
   "id": "e10dfea4",
   "metadata": {},
   "outputs": [
    {
     "data": {
      "text/plain": [
       "10"
      ]
     },
     "execution_count": 90,
     "metadata": {},
     "output_type": "execute_result"
    }
   ],
   "source": [
    "randint(10,10)"
   ]
  },
  {
   "cell_type": "code",
   "execution_count": 92,
   "id": "d5ff2724",
   "metadata": {},
   "outputs": [
    {
     "data": {
      "text/plain": [
       "11"
      ]
     },
     "execution_count": 92,
     "metadata": {},
     "output_type": "execute_result"
    }
   ],
   "source": [
    "randint(10,100)"
   ]
  },
  {
   "cell_type": "code",
   "execution_count": 93,
   "id": "6f436b3e",
   "metadata": {},
   "outputs": [
    {
     "data": {
      "text/plain": [
       "int"
      ]
     },
     "execution_count": 93,
     "metadata": {},
     "output_type": "execute_result"
    }
   ],
   "source": [
    "type(randint(10,100))"
   ]
  },
  {
   "cell_type": "code",
   "execution_count": 94,
   "id": "b2afc0b7",
   "metadata": {},
   "outputs": [],
   "source": [
    "my_num = randint(10,100)"
   ]
  },
  {
   "cell_type": "code",
   "execution_count": 95,
   "id": "36bdb480",
   "metadata": {},
   "outputs": [
    {
     "data": {
      "text/plain": [
       "89"
      ]
     },
     "execution_count": 95,
     "metadata": {},
     "output_type": "execute_result"
    }
   ],
   "source": [
    "my_num"
   ]
  },
  {
   "cell_type": "code",
   "execution_count": 96,
   "id": "bf54a08d",
   "metadata": {},
   "outputs": [
    {
     "ename": "ValueError",
     "evalue": "empty range for randrange() (100, 11, -89)",
     "output_type": "error",
     "traceback": [
      "\u001b[1;31m---------------------------------------------------------------------------\u001b[0m",
      "\u001b[1;31mValueError\u001b[0m                                Traceback (most recent call last)",
      "Cell \u001b[1;32mIn[96], line 1\u001b[0m\n\u001b[1;32m----> 1\u001b[0m \u001b[43mrandint\u001b[49m\u001b[43m(\u001b[49m\u001b[38;5;241;43m100\u001b[39;49m\u001b[43m,\u001b[49m\u001b[38;5;241;43m10\u001b[39;49m\u001b[43m)\u001b[49m\n",
      "File \u001b[1;32m~\\anaconda3\\lib\\random.py:370\u001b[0m, in \u001b[0;36mRandom.randint\u001b[1;34m(self, a, b)\u001b[0m\n\u001b[0;32m    366\u001b[0m \u001b[38;5;28;01mdef\u001b[39;00m \u001b[38;5;21mrandint\u001b[39m(\u001b[38;5;28mself\u001b[39m, a, b):\n\u001b[0;32m    367\u001b[0m     \u001b[38;5;124;03m\"\"\"Return random integer in range [a, b], including both end points.\u001b[39;00m\n\u001b[0;32m    368\u001b[0m \u001b[38;5;124;03m    \"\"\"\u001b[39;00m\n\u001b[1;32m--> 370\u001b[0m     \u001b[38;5;28;01mreturn\u001b[39;00m \u001b[38;5;28;43mself\u001b[39;49m\u001b[38;5;241;43m.\u001b[39;49m\u001b[43mrandrange\u001b[49m\u001b[43m(\u001b[49m\u001b[43ma\u001b[49m\u001b[43m,\u001b[49m\u001b[43m \u001b[49m\u001b[43mb\u001b[49m\u001b[38;5;241;43m+\u001b[39;49m\u001b[38;5;241;43m1\u001b[39;49m\u001b[43m)\u001b[49m\n",
      "File \u001b[1;32m~\\anaconda3\\lib\\random.py:353\u001b[0m, in \u001b[0;36mRandom.randrange\u001b[1;34m(self, start, stop, step)\u001b[0m\n\u001b[0;32m    351\u001b[0m     \u001b[38;5;28;01mif\u001b[39;00m width \u001b[38;5;241m>\u001b[39m \u001b[38;5;241m0\u001b[39m:\n\u001b[0;32m    352\u001b[0m         \u001b[38;5;28;01mreturn\u001b[39;00m istart \u001b[38;5;241m+\u001b[39m \u001b[38;5;28mself\u001b[39m\u001b[38;5;241m.\u001b[39m_randbelow(width)\n\u001b[1;32m--> 353\u001b[0m     \u001b[38;5;28;01mraise\u001b[39;00m \u001b[38;5;167;01mValueError\u001b[39;00m(\u001b[38;5;124m\"\u001b[39m\u001b[38;5;124mempty range for randrange() (\u001b[39m\u001b[38;5;132;01m%d\u001b[39;00m\u001b[38;5;124m, \u001b[39m\u001b[38;5;132;01m%d\u001b[39;00m\u001b[38;5;124m, \u001b[39m\u001b[38;5;132;01m%d\u001b[39;00m\u001b[38;5;124m)\u001b[39m\u001b[38;5;124m\"\u001b[39m \u001b[38;5;241m%\u001b[39m (istart, istop, width))\n\u001b[0;32m    355\u001b[0m \u001b[38;5;66;03m# Non-unit step argument supplied.\u001b[39;00m\n\u001b[0;32m    356\u001b[0m \u001b[38;5;28;01mif\u001b[39;00m istep \u001b[38;5;241m>\u001b[39m \u001b[38;5;241m0\u001b[39m:\n",
      "\u001b[1;31mValueError\u001b[0m: empty range for randrange() (100, 11, -89)"
     ]
    }
   ],
   "source": [
    "randint(100,10)"
   ]
  },
  {
   "cell_type": "markdown",
   "id": "b95a6b30",
   "metadata": {},
   "source": [
    "# Input function"
   ]
  },
  {
   "cell_type": "code",
   "execution_count": 97,
   "id": "e9ab371d",
   "metadata": {},
   "outputs": [
    {
     "name": "stdout",
     "output_type": "stream",
     "text": [
      "Enter any number:11\n"
     ]
    },
    {
     "data": {
      "text/plain": [
       "'11'"
      ]
     },
     "execution_count": 97,
     "metadata": {},
     "output_type": "execute_result"
    }
   ],
   "source": [
    "input('Enter any number:')"
   ]
  },
  {
   "cell_type": "code",
   "execution_count": 100,
   "id": "9751a9bc",
   "metadata": {},
   "outputs": [
    {
     "name": "stdout",
     "output_type": "stream",
     "text": [
      "what is your name ?AJ\n"
     ]
    }
   ],
   "source": [
    "result = input('what is your name ?')"
   ]
  },
  {
   "cell_type": "code",
   "execution_count": 101,
   "id": "6e5e9c6f",
   "metadata": {},
   "outputs": [
    {
     "data": {
      "text/plain": [
       "'AJ'"
      ]
     },
     "execution_count": 101,
     "metadata": {},
     "output_type": "execute_result"
    }
   ],
   "source": [
    "result"
   ]
  },
  {
   "cell_type": "code",
   "execution_count": 102,
   "id": "38dc98ec",
   "metadata": {},
   "outputs": [
    {
     "name": "stdout",
     "output_type": "stream",
     "text": [
      "what is your age ?30\n"
     ]
    }
   ],
   "source": [
    "result = input('what is your age ?')"
   ]
  },
  {
   "cell_type": "code",
   "execution_count": 103,
   "id": "9e89e52b",
   "metadata": {},
   "outputs": [
    {
     "data": {
      "text/plain": [
       "'30'"
      ]
     },
     "execution_count": 103,
     "metadata": {},
     "output_type": "execute_result"
    }
   ],
   "source": [
    "result"
   ]
  },
  {
   "cell_type": "code",
   "execution_count": 111,
   "id": "a4015892",
   "metadata": {},
   "outputs": [
    {
     "name": "stdout",
     "output_type": "stream",
     "text": [
      "2\n",
      "3\n",
      "4\n"
     ]
    }
   ],
   "source": [
    "i = 1\n",
    "while i in [1,2,3]:\n",
    "    i+=1\n",
    "    print(i)\n",
    "    "
   ]
  },
  {
   "cell_type": "code",
   "execution_count": 109,
   "id": "32580a1b",
   "metadata": {},
   "outputs": [
    {
     "data": {
      "text/plain": [
       "True"
      ]
     },
     "execution_count": 109,
     "metadata": {},
     "output_type": "execute_result"
    }
   ],
   "source": [
    "1 in [1,2,3]"
   ]
  },
  {
   "cell_type": "code",
   "execution_count": 118,
   "id": "2c66db36",
   "metadata": {},
   "outputs": [
    {
     "data": {
      "text/plain": [
       "[('PUNE', 4), ('BANGALORE', 9)]"
      ]
     },
     "execution_count": 118,
     "metadata": {},
     "output_type": "execute_result"
    }
   ],
   "source": [
    "branches = [\"Pune\",\"Bangalore\"]\n",
    "[(w.upper(),len(w)) for w in branches]"
   ]
  },
  {
   "cell_type": "code",
   "execution_count": 121,
   "id": "c125808d",
   "metadata": {},
   "outputs": [
    {
     "data": {
      "text/plain": [
       "[(0, 2), (1, 3)]"
      ]
     },
     "execution_count": 121,
     "metadata": {},
     "output_type": "execute_result"
    }
   ],
   "source": [
    "list(enumerate([2,3]))"
   ]
  },
  {
   "cell_type": "code",
   "execution_count": 122,
   "id": "4ef2d5e5",
   "metadata": {},
   "outputs": [
    {
     "name": "stdout",
     "output_type": "stream",
     "text": [
      "True\n"
     ]
    }
   ],
   "source": [
    "print('11'.isnumeric())"
   ]
  },
  {
   "cell_type": "code",
   "execution_count": 123,
   "id": "59f23334",
   "metadata": {},
   "outputs": [
    {
     "ename": "SyntaxError",
     "evalue": "invalid syntax. Perhaps you forgot a comma? (1740581352.py, line 1)",
     "output_type": "error",
     "traceback": [
      "\u001b[1;36m  Cell \u001b[1;32mIn[123], line 1\u001b[1;36m\u001b[0m\n\u001b[1;33m    print(11.isnumeric())\u001b[0m\n\u001b[1;37m          ^\u001b[0m\n\u001b[1;31mSyntaxError\u001b[0m\u001b[1;31m:\u001b[0m invalid syntax. Perhaps you forgot a comma?\n"
     ]
    }
   ],
   "source": [
    "print(11.isnumeric())"
   ]
  },
  {
   "cell_type": "code",
   "execution_count": 124,
   "id": "33360303",
   "metadata": {},
   "outputs": [
    {
     "name": "stdout",
     "output_type": "stream",
     "text": [
      "11\n"
     ]
    }
   ],
   "source": [
    "print(11)"
   ]
  },
  {
   "cell_type": "code",
   "execution_count": 125,
   "id": "cb3e7c51",
   "metadata": {},
   "outputs": [
    {
     "data": {
      "text/plain": [
       "True"
      ]
     },
     "execution_count": 125,
     "metadata": {},
     "output_type": "execute_result"
    }
   ],
   "source": [
    "list1 = [1,2,3]\n",
    "all(list1)"
   ]
  },
  {
   "cell_type": "code",
   "execution_count": 126,
   "id": "2be5f9ac",
   "metadata": {},
   "outputs": [
    {
     "data": {
      "text/plain": [
       "<enumerate at 0x1ac8314b240>"
      ]
     },
     "execution_count": 126,
     "metadata": {},
     "output_type": "execute_result"
    }
   ],
   "source": [
    "enumerate(list1)"
   ]
  },
  {
   "cell_type": "code",
   "execution_count": 129,
   "id": "8b608ebc",
   "metadata": {},
   "outputs": [
    {
     "ename": "TypeError",
     "evalue": "'list' object cannot be interpreted as an integer",
     "output_type": "error",
     "traceback": [
      "\u001b[1;31m---------------------------------------------------------------------------\u001b[0m",
      "\u001b[1;31mTypeError\u001b[0m                                 Traceback (most recent call last)",
      "Cell \u001b[1;32mIn[129], line 1\u001b[0m\n\u001b[1;32m----> 1\u001b[0m \u001b[38;5;28;43mchr\u001b[39;49m\u001b[43m(\u001b[49m\u001b[43mlist1\u001b[49m\u001b[43m)\u001b[49m\n",
      "\u001b[1;31mTypeError\u001b[0m: 'list' object cannot be interpreted as an integer"
     ]
    }
   ],
   "source": [
    "chr(list1)"
   ]
  },
  {
   "cell_type": "code",
   "execution_count": 130,
   "id": "f3a0efc9",
   "metadata": {},
   "outputs": [
    {
     "data": {
      "text/plain": [
       "3"
      ]
     },
     "execution_count": 130,
     "metadata": {},
     "output_type": "execute_result"
    }
   ],
   "source": [
    "max(list1)"
   ]
  },
  {
   "cell_type": "code",
   "execution_count": null,
   "id": "5bc5c811",
   "metadata": {},
   "outputs": [],
   "source": []
  }
 ],
 "metadata": {
  "kernelspec": {
   "display_name": "Python 3 (ipykernel)",
   "language": "python",
   "name": "python3"
  },
  "language_info": {
   "codemirror_mode": {
    "name": "ipython",
    "version": 3
   },
   "file_extension": ".py",
   "mimetype": "text/x-python",
   "name": "python",
   "nbconvert_exporter": "python",
   "pygments_lexer": "ipython3",
   "version": "3.10.9"
  }
 },
 "nbformat": 4,
 "nbformat_minor": 5
}
